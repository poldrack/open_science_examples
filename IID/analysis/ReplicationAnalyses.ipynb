{
 "cells": [
  {
   "cell_type": "markdown",
   "metadata": {},
   "source": [
    "## Statistical analysies for Wessel replication 1\n"
   ]
  },
  {
   "cell_type": "code",
   "execution_count": null,
   "metadata": {
    "lines_to_next_cell": 2
   },
   "outputs": [],
   "source": [
    "import pandas as pd\n",
    "import statsmodels.formula.api as smf\n",
    "from pathlib import Path\n",
    "import seaborn as sns\n",
    "import matplotlib.pyplot as plt\n",
    "\n",
    "datadir = Path('../data/processed_data')"
   ]
  },
  {
   "cell_type": "markdown",
   "metadata": {},
   "source": [
    "### Auction data analyses"
   ]
  },
  {
   "cell_type": "code",
   "execution_count": null,
   "metadata": {},
   "outputs": [],
   "source": [
    "### load data\n",
    "\n",
    "auction_datafile = datadir / 'study-1_task-auction_data.tsv'\n",
    "auction_data = pd.read_csv(auction_datafile, sep='\\t', index_col=0)\n",
    "\n",
    "print(auction_data.columns)"
   ]
  },
  {
   "cell_type": "code",
   "execution_count": null,
   "metadata": {},
   "outputs": [],
   "source": [
    "viol_plot = sns.catplot(\n",
    "    x='auctionStimValue',\n",
    "    y='chosenAuctionAmount',\n",
    "    hue='auctionCondition',\n",
    "    data=auction_data,\n",
    "    palette=\"colorblind\",\n",
    "    kind='violin',\n",
    "    height=6,\n",
    "    aspect=1.5,\n",
    "    legend=False)\n",
    "\n",
    "plt.ylim([0, 500])\n",
    "viol_plot.ax.legend(loc=2, fontsize=18)"
   ]
  },
  {
   "cell_type": "code",
   "execution_count": null,
   "metadata": {},
   "outputs": [],
   "source": [
    "### Fit model to data\n",
    "\n",
    "md = smf.mixedlm(\"chosenAuctionAmount ~ auctionStimValue*auctionCondition\", auction_data, groups=auction_data[\"subcode\"])\n",
    "mdf = md.fit()\n",
    "print(mdf.summary())"
   ]
  },
  {
   "cell_type": "code",
   "execution_count": null,
   "metadata": {},
   "outputs": [],
   "source": [
    "## Diagnostic plots\n",
    "\n",
    "auction_data['mixedlm_resid'] = mdf.resid\n",
    "sns.pairplot(auction_data)"
   ]
  }
 ],
 "metadata": {
  "jupytext": {
   "formats": "ipynb,py:percent"
  },
  "kernelspec": {
   "display_name": "Python 3",
   "language": "python",
   "name": "python3"
  },
  "language_info": {
   "codemirror_mode": {
    "name": "ipython",
    "version": 3
   },
   "file_extension": ".py",
   "mimetype": "text/x-python",
   "name": "python",
   "nbconvert_exporter": "python",
   "pygments_lexer": "ipython3",
   "version": "3.8.3"
  }
 },
 "nbformat": 4,
 "nbformat_minor": 4
}
