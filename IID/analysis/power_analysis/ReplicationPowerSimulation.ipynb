{
 "cells": [
  {
   "cell_type": "markdown",
   "metadata": {},
   "source": [
    "### Replication power simulation\n",
    "\n",
    "Strategy:\n",
    "\n",
    "- sample subjects from wessel replication 1 in order to create a dataset with particular N (using fabricatr\n",
    "- fit lmer to dataset \n",
    "- create 3 simulated datasets using appropriate value for interaction beta\n",
    "- run models on simulated datasets after combining across sites (simulating our 3 sites)\n",
    "- store pvalue and cohen's d for observed effect\n"
   ]
  },
  {
   "cell_type": "code",
   "execution_count": 1,
   "metadata": {},
   "outputs": [
    {
     "name": "stderr",
     "output_type": "stream",
     "text": [
      "/opt/conda/lib/python3.7/site-packages/rpy2/robjects/pandas2ri.py:14: FutureWarning: pandas.core.index is deprecated and will be removed in a future version.  The public classes are available in the top-level namespace.\n",
      "  from pandas.core.index import Index as PandasIndex\n"
     ]
    }
   ],
   "source": [
    "import numpy as np\n",
    "import pandas as pd\n",
    "import statsmodels.formula.api as smf\n",
    "import statsmodels.api as sm\n",
    "import itertools\n",
    "import matplotlib.pyplot as plt\n",
    "from sklearn.preprocessing import scale \n",
    "import seaborn as sns\n",
    "from rpy2.robjects.packages import importr\n",
    "from rpy2.robjects import r, pandas2ri\n",
    "import time\n",
    "import pickle \n",
    "\n",
    "pandas2ri.activate()\n",
    "lme4 = importr('lme4')\n",
    "stats = importr('stats')\n",
    "lmerTest = importr('lmerTest')\n",
    "EMAtools = importr('EMAtools')\n",
    "fabricatr = importr('fabricatr')\n",
    "%load_ext rpy2.ipython\n",
    "\n"
   ]
  },
  {
   "cell_type": "markdown",
   "metadata": {},
   "source": [
    "Load the data"
   ]
  },
  {
   "cell_type": "code",
   "execution_count": 2,
   "metadata": {},
   "outputs": [
    {
     "name": "stderr",
     "output_type": "stream",
     "text": [
      "R[write to console]: ── \u001b[1mAttaching packages\u001b[22m ─────────────────────────────────────── tidyverse 1.3.0 ──\n",
      "\n",
      "R[write to console]: \u001b[32m✔\u001b[39m \u001b[34mggplot2\u001b[39m 3.3.0     \u001b[32m✔\u001b[39m \u001b[34mpurrr  \u001b[39m 0.3.4\n",
      "\u001b[32m✔\u001b[39m \u001b[34mtibble \u001b[39m 3.0.0     \u001b[32m✔\u001b[39m \u001b[34mdplyr  \u001b[39m 0.8.5\n",
      "\u001b[32m✔\u001b[39m \u001b[34mtidyr  \u001b[39m 1.0.2     \u001b[32m✔\u001b[39m \u001b[34mstringr\u001b[39m 1.4.0\n",
      "\u001b[32m✔\u001b[39m \u001b[34mreadr  \u001b[39m 1.3.1     \u001b[32m✔\u001b[39m \u001b[34mforcats\u001b[39m 0.5.0\n",
      "\n",
      "R[write to console]: ── \u001b[1mConflicts\u001b[22m ────────────────────────────────────────── tidyverse_conflicts() ──\n",
      "\u001b[31m✖\u001b[39m \u001b[34mtidyr\u001b[39m::\u001b[32mexpand()\u001b[39m masks \u001b[34mMatrix\u001b[39m::expand()\n",
      "\u001b[31m✖\u001b[39m \u001b[34mdplyr\u001b[39m::\u001b[32mfilter()\u001b[39m masks \u001b[34mstats\u001b[39m::filter()\n",
      "\u001b[31m✖\u001b[39m \u001b[34mdplyr\u001b[39m::\u001b[32mlag()\u001b[39m    masks \u001b[34mstats\u001b[39m::lag()\n",
      "\u001b[31m✖\u001b[39m \u001b[34mtidyr\u001b[39m::\u001b[32mpack()\u001b[39m   masks \u001b[34mMatrix\u001b[39m::pack()\n",
      "\u001b[31m✖\u001b[39m \u001b[34mtidyr\u001b[39m::\u001b[32munpack()\u001b[39m masks \u001b[34mMatrix\u001b[39m::unpack()\n",
      "\n",
      "R[write to console]: Parsed with column specification:\n",
      "cols(\n",
      "  X1 = \u001b[32mcol_double()\u001b[39m,\n",
      "  auctionStimValue = \u001b[32mcol_double()\u001b[39m,\n",
      "  auctionCondition = \u001b[31mcol_character()\u001b[39m,\n",
      "  chosenAuctionAmount = \u001b[32mcol_double()\u001b[39m,\n",
      "  subcode = \u001b[31mcol_character()\u001b[39m\n",
      ")\n",
      "\n"
     ]
    }
   ],
   "source": [
    "%%R -o rep1Df\n",
    "\n",
    "library('tidyverse')\n",
    "rep1Df = read_delim('../processed_data/study-1_task-auction_data.tsv', '\\t')\n",
    "rep1Df['X1'] = NULL\n",
    "rep1Df = rep1Df %>% \n",
    "  mutate(studyNum = 1,\n",
    "         stimValueFactor = as.factor(auctionStimValue))\n"
   ]
  },
  {
   "cell_type": "code",
   "execution_count": 3,
   "metadata": {},
   "outputs": [],
   "source": [
    "# function to run ezANOVA on the summary data\n",
    "\n",
    "run_ez = r('''run_ez = function(summaryDf){\n",
    "library(ez)\n",
    "summaryDf['auctionStimValue'] = as.factor(summaryDf$auctionStimValue)\n",
    "summaryDf['auctionCondition'] = as.factor(summaryDf$auctionCondition)\n",
    "summaryDf['site'] = as.factor(summaryDf$site)\n",
    "summaryDf['subcode_unique'] = as.factor(summaryDf$subcode_unique)\n",
    "\n",
    "#Run an ANOVA on the mean correct RT data.\n",
    "CombinedExclusiveAuctionANOVA = ezANOVA(\n",
    "  data = summaryDf\n",
    "  , dv = chosenAuctionAmount\n",
    "  , wid = subcode_unique\n",
    "  , within = .(auctionStimValue,auctionCondition)\n",
    "  , between = site\n",
    "  , detailed = TRUE\n",
    ")\n",
    "}\n",
    "''')"
   ]
  },
  {
   "cell_type": "markdown",
   "metadata": {},
   "source": [
    "Now we loop through the main simulation runs.  on each round we generate a simulated dataset for each site (by resampling from the existing dataset using `fabricatr` and then simulating using lme4 `simulate()`), and then we fit three models:\n",
    "- full mixed model using `lmer()` with random intercept and interaction slope\n",
    "- mixed model on summary data for each subject, with random intercept (i.e. treating slope as fixed effect)\n",
    "- standard repeated measures ANOVA model on summary data, using ezANOVA (with Huhyn-Feldt correction for nonsphericity)"
   ]
  },
  {
   "cell_type": "code",
   "execution_count": 4,
   "metadata": {},
   "outputs": [
    {
     "name": "stderr",
     "output_type": "stream",
     "text": [
      "R[write to console]: theta parameter vector not named: assuming same order as internal vector\n",
      "\n",
      "R[write to console]: beta parameter vector not named: assuming same order as internal vector\n",
      "\n",
      "R[write to console]: Registered S3 methods overwritten by 'car':\n",
      "  method                          from\n",
      "  influence.merMod                lme4\n",
      "  cooks.distance.influence.merMod lme4\n",
      "  dfbeta.influence.merMod         lme4\n",
      "  dfbetas.influence.merMod        lme4\n",
      "\n"
     ]
    }
   ],
   "source": [
    "# formulas for lmer analyses\n",
    "\n",
    "testmode = True\n",
    "\n",
    "# full mixed model with random intercept and interaction slope\n",
    "formula = \"\"\"chosenAuctionAmount ~ \n",
    "              auctionStimValue*auctionCondition + \n",
    "              (1 + auctionStimValue*auctionCondition|subcode_unique)\"\"\"\n",
    "\n",
    "# multisite mixed model with site interaction\n",
    "formula_multisite = \"\"\"chosenAuctionAmount ~ \n",
    "              site*auctionStimValue*auctionCondition + \n",
    "              (1 + auctionStimValue*auctionCondition|subcode_unique)\"\"\"\n",
    "\n",
    "# formula for random intercept model on summary data\n",
    "formula_summary = \"\"\"chosenAuctionAmount ~ \n",
    "              site*auctionStimValue*auctionCondition + \n",
    "              (1 |subcode_unique)\"\"\"\n",
    "\n",
    "n = 79  # N determined by previous power analysis\n",
    "\n",
    "# since we can't specify a standardized effect size, we randomly select\n",
    "# the interaction parameter from within this range (based on pilot simulations)\n",
    "# and then compute the observed cohen's D for the analysis\n",
    "int_param_max = 3.5\n",
    "int_param_min = 1\n",
    "\n",
    "results_sim = pd.DataFrame(columns=['int_param', 'cohensd_int', 'int_pval'])\n",
    "\n",
    "if testmode:\n",
    "    nruns=1\n",
    "else:\n",
    "    nruns = 1000\n",
    "now = time.time()\n",
    "et = []\n",
    "\n",
    "# use a specific seed to get reproducible results\n",
    "rng = np.random.RandomState(1)\n",
    "\n",
    "# not sure if this actually works for fabricatr\n",
    "r('set.seed(1)')\n",
    "\n",
    "# store full results to a dictionary\n",
    "results_sim_full = {}\n",
    "\n",
    "for i in range(nruns):\n",
    "    results_sim_full[i] = {}\n",
    "    # choose an interaction parameter from within the range of interest\n",
    "    int_param = int_param_min + np.random.rand()*(int_param_max - int_param_min)\n",
    "    \n",
    "    # print a progress report with ETA\n",
    "    if i > 0:\n",
    "        et.append(time.time() - now)\n",
    "        print(i, int_param, et[-1], 'eta:', (nruns - i)*np.mean(et)/60, 'mins')\n",
    "        now = time.time()\n",
    "    \n",
    "    # resample data from original, by subject\n",
    "    simDf = fabricatr.resample_data(rep1Df, n, r(\"c('subcode')\"), True)\n",
    "    \n",
    "    # fit mixed model to original dataset, to estimate random effects\n",
    "    m1 = lme4.lmer(formula=formula, data=simDf)\n",
    "\n",
    "    # set coefs, with fixed intercept and main effect and \n",
    "    # varying interaction parameter\n",
    "    coefs=r('list(beta=c(139,10,0,%f))' % int_param)\n",
    "    \n",
    "    # create simulated data for the three sites using the fitted model\n",
    "    # with the new coefficients\n",
    "    s = lme4.simulate_merMod(m1, newparams=coefs, nsim=3, seed=rng.randint(0,10000))\n",
    "    simDf1 = simDf.copy()\n",
    "    simDf2 = simDf.copy()\n",
    "    simDf3 = simDf.copy()\n",
    "    simDf1['chosenAuctionAmount'] = s.sim_1.values\n",
    "    simDf2['chosenAuctionAmount'] = s.sim_2.values\n",
    "    simDf3['chosenAuctionAmount'] = s.sim_3.values\n",
    "    simDf1['site'] = 'a'\n",
    "    simDf2['site'] = 'b'\n",
    "    simDf3['site'] = 'c'\n",
    "    # need to create new unique subcodes across sites\n",
    "    simDf1['subcode_unique'] = ['%s_a' % i for i in simDf1['subcode_unique']]\n",
    "    simDf2['subcode_unique'] = ['%s_b' % i for i in simDf2['subcode_unique']]\n",
    "    simDf3['subcode_unique'] = ['%s_c' % i for i in simDf3['subcode_unique']]\n",
    "  \n",
    "    simDfall = simDf1.append(simDf2).append(simDf3)\n",
    "    \n",
    "    # fit full mixed model to combined data\n",
    "    # do not include site random effect as it is accounted for by subject\n",
    "    sm1 = lme4.lmer(formula=formula_multisite, data=simDfall)\n",
    "    sm1_coefs = lmerTest.get_coefmat(sm1)\n",
    "    results_sim.loc[i, 'int_pval'] = sm1_coefs[9,4]\n",
    "    results_sim.loc[i, 'cohensd_int'] = EMAtools.lme_dscore(\n",
    "        sm1, simDfall, 'lme4').loc['auctionStimValue:auctionConditionstop', 'd']\n",
    "    results_sim.loc[i, 'int_param'] = int_param\n",
    "    results_sim_full[i]['lmer_full'] = {'coefs': sm1_coefs,\n",
    "                                        'summary': lmerTest.summary_merModLmerTest(sm1)}\n",
    "    \n",
    "    # create summary data for simple repeated measures analyses\n",
    "    summaryDf = simDfall.groupby(['subcode_unique', 'site',\n",
    "                               'auctionStimValue', \n",
    "                               'auctionCondition']).mean().reset_index()\n",
    "\n",
    "    # use ezanova\n",
    "    ez = run_ez(summaryDf)\n",
    "    results_sim.loc[i, 'int_pval_ez'] = ez[2].query(\n",
    "        'Effect==\"auctionStimValue:auctionCondition\"').loc[:, \"p[HF]\"].values[0]\n",
    "    results_sim_full[i]['ez'] = ez\n",
    "    \n",
    "    # fit lmer model with random intercept to summary data\n",
    "    sm3 = lme4.lmer(formula=formula_summary, data=summaryDf)\n",
    "    sm3_coefs = lmerTest.get_coefmat(sm3)\n",
    "    results_sim.loc[i, 'int_pval_simple'] = sm3_coefs[3,4]\n",
    "    results_sim.loc[i, 'cohensd_int_simple'] = EMAtools.lme_dscore(\n",
    "        sm3, summaryDf, 'lme4').loc[\n",
    "            'auctionStimValue:auctionConditionstop', 'd']\n",
    "    results_sim_full[i]['lmer_summary']={'coefs': sm3_coefs,\n",
    "                                        'summary': lmerTest.summary_merModLmerTest(sm3)}\n",
    "\n",
    "if not testmode:\n",
    "    results_sim.to_csv('power_sim_mixedmodel1.csv')\n",
    "    with open('power_sim_mixedmodels.pkl', 'wb') as f:\n",
    "        pickle.dump(results_sim_full, f)"
   ]
  },
  {
   "cell_type": "code",
   "execution_count": null,
   "metadata": {},
   "outputs": [],
   "source": [
    "# load pkl and get proper p values for interaction\n",
    "\n",
    "with open('power_sim_mixedmodels.pkl', 'rb') as f:\n",
    "    results_all = pickle.load(f)\n",
    "    \n",
    "    "
   ]
  },
  {
   "cell_type": "code",
   "execution_count": null,
   "metadata": {},
   "outputs": [],
   "source": [
    "results_all.keys()"
   ]
  },
  {
   "cell_type": "code",
   "execution_count": 4,
   "metadata": {},
   "outputs": [],
   "source": [
    "results_sim = pd.read_csv('power_sim_mixedmodel1.csv')\n",
    "results_sim['psig_int'] = (results_sim['int_pval'] < .05).astype(\"int\")\n",
    "results_sim['psig_int_ez'] = (results_sim['int_pval_ez'] < .05).astype(\"int\")\n",
    "results_sim['psig_int_rm'] = (results_sim['int_pval_simple'] < .05).astype(\"int\")\n",
    "#sns.scatterplot(x='cohensd_int', y='psig_int', data=results_sim)"
   ]
  },
  {
   "cell_type": "code",
   "execution_count": 5,
   "metadata": {},
   "outputs": [
    {
     "name": "stdout",
     "output_type": "stream",
     "text": [
      "full mixed model: exceeds 80% power for d =  0.0\n",
      "mixed model on summary : exceeds 80% power for d =  0.0\n",
      "ezANOVA: exceeds 80% power for d =  0.30000000000000004\n"
     ]
    }
   ],
   "source": [
    "# use moving average\n",
    "dvals = np.arange(0, 1, .025)\n",
    "span = .025\n",
    "power_ma = pd.DataFrame()\n",
    "for i, d in enumerate(dvals):\n",
    "    results_d = results_sim.query('cohensd_int > %f & cohensd_int < %f' % (d - span, d + span))\n",
    "    power_ma.loc[i, 'd'] = d\n",
    "    power_ma.loc[i, 'power_randslope'] = results_d.psig_int.mean()\n",
    "    power_ma.loc[i, 'power_rm'] = results_d.psig_int_rm.mean()\n",
    "    power_ma.loc[i, 'power_ez'] = results_d.psig_int_ez.mean()\n",
    "    power_ma.loc[i, 'n'] = results_d.psig_int.count()\n",
    "    \n",
    "print('full mixed model: exceeds 80% power for d = ', power_ma.query('power_randslope > 0.8').d.iloc[0])\n",
    "print('mixed model on summary : exceeds 80% power for d = ', power_ma.query('power_rm > 0.8').d.iloc[0])\n",
    "print('ezANOVA: exceeds 80% power for d = ', power_ma.query('power_ez > 0.8').d.iloc[0])"
   ]
  },
  {
   "cell_type": "code",
   "execution_count": 6,
   "metadata": {},
   "outputs": [
    {
     "data": {
      "text/plain": [
       "[<matplotlib.lines.Line2D at 0x7fc9a87bee50>]"
      ]
     },
     "execution_count": 6,
     "metadata": {},
     "output_type": "execute_result"
    },
    {
     "data": {
      "image/png": "[encoded data removed]",
      "text/plain": [
       "<Figure size 432x288 with 1 Axes>"
      ]
     },
     "metadata": {
      "needs_background": "light"
     },
     "output_type": "display_data"
    }
   ],
   "source": [
    "plt.plot(power_ma.d, power_ma.power_randslope)\n",
    "plt.plot(power_ma.d, power_ma.power_rm, 'r')\n",
    "plt.plot(power_ma.d, power_ma.power_ez, 'k')\n"
   ]
  },
  {
   "cell_type": "code",
   "execution_count": null,
   "metadata": {},
   "outputs": [],
   "source": []
  },
  {
   "cell_type": "code",
   "execution_count": null,
   "metadata": {},
   "outputs": [],
   "source": [
    "from sklearn.linear_model import LinearRegression\n",
    "lr = LinearRegression()\n",
    "lr.fit(results_sim.cohensd_int[:, np.newaxis], results_sim.int_param)\n",
    "print(lr.coef_, lr.intercept_)\n",
    "\n",
    "lr.intercept_ + lr.coef_[0]*.2"
   ]
  },
  {
   "cell_type": "code",
   "execution_count": null,
   "metadata": {},
   "outputs": [],
   "source": [
    "lr.predict(np.array([.5]).reshape((1,1)))"
   ]
  },
  {
   "cell_type": "code",
   "execution_count": 13,
   "metadata": {},
   "outputs": [
    {
     "data": {
      "text/plain": [
       "<matplotlib.collections.PathCollection at 0x7fce9835ded0>"
      ]
     },
     "execution_count": 13,
     "metadata": {},
     "output_type": "execute_result"
    },
    {
     "data": {
      "image/png": "[encoded data removed]",
      "text/plain": [
       "<Figure size 432x288 with 1 Axes>"
      ]
     },
     "metadata": {
      "needs_background": "light"
     },
     "output_type": "display_data"
    }
   ],
   "source": [
    "plt.scatter(results_sim.cohensd_int, results_sim.int_param)"
   ]
  },
  {
   "cell_type": "code",
   "execution_count": null,
   "metadata": {},
   "outputs": [],
   "source": []
  },
  {
   "cell_type": "code",
   "execution_count": null,
   "metadata": {},
   "outputs": [],
   "source": []
  }
 ],
 "metadata": {
  "kernelspec": {
   "display_name": "Python 3",
   "language": "python",
   "name": "python3"
  },
  "language_info": {
   "codemirror_mode": {
    "name": "ipython",
    "version": 3
   },
   "file_extension": ".py",
   "mimetype": "text/x-python",
   "name": "python",
   "nbconvert_exporter": "python",
   "pygments_lexer": "ipython3",
   "version": "3.7.6"
  }
 },
 "nbformat": 4,
 "nbformat_minor": 4
}
